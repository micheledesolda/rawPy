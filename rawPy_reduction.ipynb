{
 "cells": [
  {
   "cell_type": "code",
   "execution_count": 9,
   "metadata": {},
   "outputs": [],
   "source": [
    "import numpy as np \n",
    "import pandas as pd\n",
    "import matplotlib.pyplot as plt \n",
    "from RawPy import rawPy as rp\n",
    "import os\n",
    "\n",
    "cwd = os.getcwd()"
   ]
  },
  {
   "cell_type": "code",
   "execution_count": 10,
   "metadata": {},
   "outputs": [],
   "source": [
    "#Choose the preferred backend for interactive plotting\n",
    "%matplotlib qt"
   ]
  },
  {
   "cell_type": "markdown",
   "metadata": {},
   "source": [
    "##########################  \n",
    "**Date Run:** 2/3/18 Scuderi   \n",
    "**Date Reduced:** 3/7/18 Scuderi  \n",
    "##########################  \n",
    "**Material:** Wenchuan Drillin project WFSD-3P-6  \n",
    "**Configuration:** Double-Direct Shear 5x5 5x5 small grooves side blocks  \n",
    "**Normal stress:** 12MPa  \n",
    "**Shear velocity:** 10µm/s  \n",
    "**Velocity steps:** 0.3µm/s-1mm/s  \n",
    "**Slide-hold-slide:** 10-10000  \n",
    "**Notes:**  \n",
    "W1 = 8.24g  \n",
    "W2 = 8.28g  "
   ]
  },
  {
   "cell_type": "code",
   "execution_count": 11,
   "metadata": {},
   "outputs": [
    {
     "name": "stdout",
     "output_type": "stream",
     "text": [
      "------------------------------------------------------\n",
      "|                Name|           Unit|        Records|\n",
      "-----------------------------------------------------\n",
      "|              V-LVDT|           (mm)|         223102|\n",
      "|              H-LVDT|           (mm)|         223102|\n",
      "|              V-LOAD|           (kN)|         223102|\n",
      "|              H-LOAD|           (kN)|         223102|\n",
      "|                Time|          (sec)|         223102|\n",
      "|              Record|            (.)|         223102|\n",
      "------------------------------------------------------\n"
     ]
    }
   ],
   "source": [
    "#LOAD DATA\n",
    "exp_name = os.path.join(cwd, 'Example', 'b754s03wen6_12')\n",
    "data = rp.load_data('%s'%exp_name,pandas=True)"
   ]
  },
  {
   "cell_type": "code",
   "execution_count": 12,
   "metadata": {},
   "outputs": [],
   "source": [
    "# rename these two columns that will not change throughout the analysis\n",
    "time_s = data.Time\n",
    "records_na = data.Record # record must always be the last col when saving files"
   ]
  },
  {
   "cell_type": "markdown",
   "metadata": {},
   "source": [
    "### 1. Calculate Normal Stress "
   ]
  },
  {
   "cell_type": "code",
   "execution_count": 13,
   "metadata": {},
   "outputs": [
    {
     "data": {
      "text/plain": [
       "<RawPy.rawPy.Cursor at 0x7f34ff987950>"
      ]
     },
     "execution_count": 13,
     "metadata": {},
     "output_type": "execute_result"
    }
   ],
   "source": [
    "# PLOT\n",
    "rp.plot(data.Record,data['H-LOAD'],'rec#','h_load')"
   ]
  },
  {
   "cell_type": "code",
   "execution_count": 14,
   "metadata": {},
   "outputs": [
    {
     "data": {
      "text/plain": [
       "<RawPy.rawPy.Cursor at 0x7f34fc22a650>"
      ]
     },
     "execution_count": 14,
     "metadata": {},
     "output_type": "execute_result"
    }
   ],
   "source": [
    "#############  normal load ############ \n",
    "#### Normal load is applied at record\n",
    "\n",
    "beg_row_h = 342\n",
    "\n",
    "######################################\n",
    "# zero the data\n",
    "h_load = rp.zero(data['H-LOAD'],beg_row_h)\n",
    "# remove noise before load is applied \n",
    "h_load[:beg_row_h] = h_load[:beg_row_h]*0\n",
    "# calculate stress for DDS 5x5\n",
    "h_load =  h_load/(1000*0.0025)\n",
    "#add a small number to normal stress \n",
    "#so that we aren't dividing by 0 anywhere to calculate mu \n",
    "normal_stress_MPa = h_load + 1e-7\n",
    "del h_load\n",
    "\n",
    "rp.plot(data.Time,normal_stress_MPa,'Time [s]','Normal stress [MPa]')"
   ]
  },
  {
   "cell_type": "markdown",
   "metadata": {},
   "source": [
    "### 2. Calculate Shear Stress ####"
   ]
  },
  {
   "cell_type": "code",
   "execution_count": 15,
   "metadata": {},
   "outputs": [
    {
     "data": {
      "text/plain": [
       "<RawPy.rawPy.Cursor at 0x7f34fc1f8a50>"
      ]
     },
     "execution_count": 15,
     "metadata": {},
     "output_type": "execute_result"
    }
   ],
   "source": [
    "# PLOT\n",
    "rp.plot(data.Record,data['V-LOAD'],'rec#','v_load [kN]')"
   ]
  },
  {
   "cell_type": "code",
   "execution_count": 16,
   "metadata": {},
   "outputs": [
    {
     "data": {
      "text/plain": [
       "<RawPy.rawPy.Cursor at 0x7f34ec12c310>"
      ]
     },
     "execution_count": 16,
     "metadata": {},
     "output_type": "execute_result"
    }
   ],
   "source": [
    "#### Vertical stress ###\n",
    "#### This is the point at which the ram contacted the blocks and load shear loading began\n",
    "\n",
    "beg_row_v = 7625\n",
    "\n",
    "##################################\n",
    "\n",
    "# ZERO DATA\n",
    "v_load = rp.zero(data['V-LOAD'],beg_row_v)\n",
    "# add in force from the central block due to gravity \n",
    "v_load = v_load + 0.044 #[kN]\n",
    "# remove noise before load is applied\n",
    "v_load[:beg_row_v]= v_load[:beg_row_v]*0\n",
    "# calculate stress for DDS 5x5\n",
    "shear_stress_MPa = v_load/(2*1000*0.0025)\n",
    "del v_load\n",
    "\n",
    "#### vertical disp ####\n",
    "lp_disp_mm = rp.zero(data['V-LVDT'],beg_row_v)\n",
    "lp_disp_mm[:beg_row_v] = lp_disp_mm[:beg_row_v]*0\n",
    "lp_disp_mm = lp_disp_mm*-1\n",
    "\n",
    "rp.plot(data.Time,shear_stress_MPa,'Time [s]','Shear stress [MPa]')\n",
    "rp.plot(data.Time,lp_disp_mm,'Time [s]', 'lp_disp [mm]')"
   ]
  },
  {
   "cell_type": "markdown",
   "metadata": {},
   "source": [
    "**If necessary offset the data**"
   ]
  },
  {
   "cell_type": "code",
   "execution_count": 17,
   "metadata": {},
   "outputs": [],
   "source": [
    "# OFFSET data \n",
    "# takes as input row1, row2, col \n",
    "#example\n",
    "#row_1 = 89726\n",
    "#row_2 = 89737\n",
    "#lp_disp_mm = rp.offset(lp_disp_mm,row_1,row_2)\n",
    "#"
   ]
  },
  {
   "cell_type": "markdown",
   "metadata": {},
   "source": [
    "### 3. Correct for elastic strech of the vertical frame   \n",
    "\n",
    "| Verical stiffness | applied load | k[MPa/mm] | calibration date | \n",
    "| --- | --- | --- | --- |  \n",
    "| 359.75 [kN/mm] | < 50 [kN] | 116.801 [MPa/mm] | 19/11/2015 | \n",
    "| 928.5 [kN/mm] | > 50 [kN] | 301.461 [MPa/mm] | 19/11/2015 | \n",
    "\n",
    "Note:  \n",
    "1. These values are calculated for a 5x5[cm] shear surface  \n",
    "2. Stiffness is non linear at low applied loads  \n",
    "TO DO: implement a function that corrects for non-linear stiffness\n"
   ]
  },
  {
   "cell_type": "code",
   "execution_count": 18,
   "metadata": {},
   "outputs": [],
   "source": [
    "# Elastic correction for the stretch of the vertical frame # \n",
    "k = 166.801 #[MPa/mm]\n",
    "ec_disp_mm = rp.ElasticCorrection(shear_stress_MPa,lp_disp_mm,k)"
   ]
  },
  {
   "cell_type": "markdown",
   "metadata": {},
   "source": [
    "### 4. Correct for elastic strech of the horizontal frame   \n",
    "\n",
    "| Horizontal stiffness | applied load | k[MPa/mm] | calibration date | \n",
    "| --- | --- | --- | --- |  \n",
    "| 386.12 [kN/mm] | < 50 [kN] | 125.363 [MPa/mm] | 19/11/2015 | \n",
    "| 1283 [kN/mm] | > 50 [kN] | 416.558 [MPa/mm] | 19/11/2015 | \n",
    "\n",
    "Note:  \n",
    "1. These values are calculated for a 5x5[cm] shear surface  \n",
    "2. Stiffness is non linear at low applied loads  \n",
    "TO DO: implement a function that corrects for non-linear stiffness\n"
   ]
  },
  {
   "cell_type": "code",
   "execution_count": 19,
   "metadata": {},
   "outputs": [],
   "source": [
    "# Elastic correction for the stretch of the horizontal frame #\n",
    "k = 125.363 #[MPa/mm]\n",
    "lt_ec_mm = rp.ElasticCorrection(normal_stress_MPa,data['H-LVDT'],k)"
   ]
  },
  {
   "cell_type": "markdown",
   "metadata": {},
   "source": [
    "### 5. Calculate layer thickness   \n",
    "\n",
    "Treat changes in horizontal displacement ($\\Delta$h) as symmetric, take half of it for 1 layer.  \n",
    "Compaction = thinner layer  \n",
    "Thickness of DDS assembly with no gouge is:  \n",
    "\n",
    "| small groove blocks | large groove blocks | PZT side blocks |  \n",
    "| --- | --- | --- |  \n",
    "|99.7 mm | 95 mm | 102.54 mm |\n",
    "\n",
    "Bench thickness of initial layers & DDS is  --- [mm]  \n",
    "Bench thickness of 1 layer is: ---  [mm]\n",
    "\n",
    "Thickness of spacers:  \n",
    "\n",
    "| AA | BB | CC |  \n",
    "| --- | --- | --- |  \n",
    "|29.86 mm | -- mm | 6.12 mm |\n",
    "\n",
    "The layer thickness is calculated as:  \n",
    "layer_thickness = (total layer thickness)-(Assembly)-(Spacers) / 2  \n",
    "\n",
    "\n",
    "Total thickness is 137.14 mm at rec #6068  \n",
    "layer tickness is  (137.14- 99.7 -29.86-6.12)/2  \n",
    "Layer thickness for one layer under load is 0.73 mm  "
   ]
  },
  {
   "cell_type": "code",
   "execution_count": 20,
   "metadata": {},
   "outputs": [
    {
     "data": {
      "text/plain": [
       "<RawPy.rawPy.Cursor at 0x7f34ec11cbd0>"
      ]
     },
     "execution_count": 20,
     "metadata": {},
     "output_type": "execute_result"
    }
   ],
   "source": [
    "###########################################################\n",
    "# insert rec number at which layer thickness was measured\n",
    "rec_lt = 6068\n",
    "# insert calculated value at that poin\n",
    "val_lt = 0.73\n",
    "###########################################################\n",
    "# zero data\n",
    "lt_ec_mm = rp.zero(lt_ec_mm,rec_lt)\n",
    "lt_ec_mm = lt_ec_mm/2\n",
    "lt_ec_mm = lt_ec_mm + val_lt\n",
    "\n",
    "rp.plot(data.Time,lt_ec_mm,'Time [s]','Layer thickness [mm]')"
   ]
  },
  {
   "cell_type": "markdown",
   "metadata": {},
   "source": [
    "### 6. Remove geometrical thinning"
   ]
  },
  {
   "cell_type": "code",
   "execution_count": 21,
   "metadata": {},
   "outputs": [],
   "source": [
    "# default unit is [mm]\n",
    "rgt_lt_mm = rp.rgt(lp_disp_mm,lt_ec_mm)"
   ]
  },
  {
   "cell_type": "markdown",
   "metadata": {},
   "source": [
    "### 7. Calculate shear strain "
   ]
  },
  {
   "cell_type": "code",
   "execution_count": 22,
   "metadata": {},
   "outputs": [
    {
     "data": {
      "text/plain": [
       "<RawPy.rawPy.Cursor at 0x7f34ec168290>"
      ]
     },
     "execution_count": 22,
     "metadata": {},
     "output_type": "execute_result"
    }
   ],
   "source": [
    "##### calculate strain ####\n",
    "shear_strain_na = rp.shear_strain(ec_disp_mm,lt_ec_mm)\n",
    "\n",
    "rp.plot(shear_strain_na,shear_stress_MPa,'Shear strain','Shear stress [MPa]')"
   ]
  },
  {
   "cell_type": "markdown",
   "metadata": {},
   "source": [
    "### 8. Calculate friction "
   ]
  },
  {
   "cell_type": "code",
   "execution_count": 23,
   "metadata": {},
   "outputs": [
    {
     "data": {
      "text/plain": [
       "<RawPy.rawPy.Cursor at 0x7f34e6fd6b10>"
      ]
     },
     "execution_count": 23,
     "metadata": {},
     "output_type": "execute_result"
    }
   ],
   "source": [
    "# select last row of experiment for friction\n",
    "rp.plot(data.Record,shear_stress_MPa,'rec','shear stress')"
   ]
  },
  {
   "cell_type": "code",
   "execution_count": 24,
   "metadata": {},
   "outputs": [],
   "source": [
    "##### insert the last row \n",
    "end_row = 208901\n",
    "########################\n",
    "\n",
    "friction_na = shear_stress_MPa/normal_stress_MPa\n",
    "# remove the noise before and after vertical load\n",
    "friction_na[:beg_row_v] = friction_na[:beg_row_v]*0\n",
    "friction_na[end_row:] = friction_na[end_row:]*0\n",
    "\n",
    "#rp.plot(ec_disp_mm,friction_na,'ec_disp [mm]','friction')"
   ]
  },
  {
   "cell_type": "markdown",
   "metadata": {},
   "source": [
    "# Examples of additional functions"
   ]
  },
  {
   "cell_type": "markdown",
   "metadata": {},
   "source": [
    "### Calculate derivative (e.g. shear velocity)"
   ]
  },
  {
   "cell_type": "code",
   "execution_count": 25,
   "metadata": {},
   "outputs": [
    {
     "data": {
      "text/plain": [
       "<RawPy.rawPy.Cursor at 0x7f34e6b96550>"
      ]
     },
     "execution_count": 25,
     "metadata": {},
     "output_type": "execute_result"
    }
   ],
   "source": [
    "shear_vel_mms = rp.rslope(time_s,lp_disp_mm,20)\n",
    "rp.plot(time_s,shear_vel_mms)"
   ]
  },
  {
   "cell_type": "markdown",
   "metadata": {},
   "source": [
    "### Filter data "
   ]
  },
  {
   "cell_type": "code",
   "execution_count": 26,
   "metadata": {},
   "outputs": [],
   "source": [
    "# you can filter al the experiment (not recommended)\n",
    "mu_low_pass = rp.filter_low_pass(time_s,friction_na,0.01,10)\n",
    "# you can filter only a portion of the experiment\n",
    "mu_low_pass = rp.filter_low_pass(time_s,friction_na,0.01,10,rows=[89000,189000])"
   ]
  },
  {
   "cell_type": "markdown",
   "metadata": {},
   "source": [
    "### Take the slope of a portion of the experiment"
   ]
  },
  {
   "cell_type": "code",
   "execution_count": 27,
   "metadata": {},
   "outputs": [
    {
     "name": "stdout",
     "output_type": "stream",
     "text": [
      "[-0.19174206  0.6646912 ]\n"
     ]
    }
   ],
   "source": [
    "# coeff are from the lowest to highest order\n",
    "coeff = rp.slope(lp_disp_mm,friction_na,7926,8490)\n",
    "print (coeff)"
   ]
  },
  {
   "cell_type": "code",
   "execution_count": 28,
   "metadata": {},
   "outputs": [
    {
     "name": "stdout",
     "output_type": "stream",
     "text": [
      "[ -0.51334035   3.98099454 -10.94956166  14.35209173  -6.49268931]\n"
     ]
    }
   ],
   "source": [
    "# or you can choose a higher polynominal fit\n",
    "coeff = rp.slope(lp_disp_mm,friction_na,7926,8490,4)\n",
    "print (coeff)"
   ]
  },
  {
   "cell_type": "markdown",
   "metadata": {},
   "source": [
    "### 9. Export reduced data ###"
   ]
  },
  {
   "cell_type": "code",
   "execution_count": 29,
   "metadata": {},
   "outputs": [
    {
     "name": "stdout",
     "output_type": "stream",
     "text": [
      "Saving data\n",
      "\n",
      "------------------------------------------------------\n",
      "|                Name|           Unit|        Records|\n",
      "-----------------------------------------------------\n",
      "|    shear_stress_MPa|            MPa|         223103|\n",
      "|          lp_disp_mm|             mm|         223103|\n",
      "|          ec_disp_mm|             mm|         223103|\n",
      "|   normal_stress_MPa|            MPa|         223103|\n",
      "|            lt_ec_mm|             mm|         223103|\n",
      "|           rgt_lt_mm|             mm|         223103|\n",
      "|         friction_na|             na|         223103|\n",
      "|     shear_strain_na|             na|         223103|\n",
      "|              time_s|              s|         223103|\n",
      "|          records_na|             na|         223103|\n",
      "------------------------------------------------------\n"
     ]
    }
   ],
   "source": [
    "\n",
    "data_out = [shear_stress_MPa,\n",
    "            lp_disp_mm,\n",
    "            ec_disp_mm, \n",
    "            normal_stress_MPa,\n",
    "            lt_ec_mm, \n",
    "            rgt_lt_mm,\n",
    "            friction_na,\n",
    "            shear_strain_na, \n",
    "            time_s,\n",
    "            records_na]\n",
    "            \n",
    "rp.save_data(exp_name,data_out,callingLocals=locals())"
   ]
  },
  {
   "cell_type": "markdown",
   "metadata": {},
   "source": [
    "# Compare the results obtained with rawPy against the same experiment analyzed with xlook"
   ]
  },
  {
   "cell_type": "code",
   "execution_count": 30,
   "metadata": {},
   "outputs": [
    {
     "name": "stdout",
     "output_type": "stream",
     "text": [
      "------------------------------------------------------\n",
      "|                Name|           Unit|        Records|\n",
      "-----------------------------------------------------\n",
      "|    shear_stress_MPa|            MPa|         223102|\n",
      "|          lp_disp_mm|             mm|         223102|\n",
      "|          ec_disp_mm|             mm|         223102|\n",
      "|   normal_stress_MPa|            MPa|         223102|\n",
      "|            lt_ec_mm|             mm|         223102|\n",
      "|           rgt_lt_mm|             mm|         223102|\n",
      "|         friction_na|             na|         223102|\n",
      "|     shear_strain_na|             na|         223102|\n",
      "|              time_s|              s|         223102|\n",
      "|          records_na|             na|         223102|\n",
      "------------------------------------------------------\n"
     ]
    }
   ],
   "source": [
    "## import the data analyzed as pandas data frame\n",
    "exp_name = os.path.join(cwd, 'example', 'b754_data_rp')\n",
    "data_rawPy = rp.load_data(exp_name,pandas=True)"
   ]
  },
  {
   "cell_type": "code",
   "execution_count": 31,
   "metadata": {},
   "outputs": [
    {
     "ename": "FileNotFoundError",
     "evalue": "[Errno 2] No such file or directory: '/src/rawPy/example/b754_xlook.txt'",
     "output_type": "error",
     "traceback": [
      "\u001b[0;31m---------------------------------------------------------------------------\u001b[0m",
      "\u001b[0;31mFileNotFoundError\u001b[0m                         Traceback (most recent call last)",
      "\u001b[1;32m/src/rawPy/rawPy_reduction.ipynb Cell 39\u001b[0m line \u001b[0;36m2\n\u001b[1;32m      <a href='vscode-notebook-cell:/src/rawPy/rawPy_reduction.ipynb#X53sZmlsZQ%3D%3D?line=0'>1</a>\u001b[0m xlook_file \u001b[39m=\u001b[39m os\u001b[39m.\u001b[39mpath\u001b[39m.\u001b[39mjoin(cwd, \u001b[39m'\u001b[39m\u001b[39mexample\u001b[39m\u001b[39m'\u001b[39m, \u001b[39m'\u001b[39m\u001b[39mb754_xlook.txt\u001b[39m\u001b[39m'\u001b[39m)\n\u001b[0;32m----> <a href='vscode-notebook-cell:/src/rawPy/rawPy_reduction.ipynb#X53sZmlsZQ%3D%3D?line=1'>2</a>\u001b[0m data_xlook \u001b[39m=\u001b[39m pd\u001b[39m.\u001b[39;49mread_csv(xlook_file,skiprows\u001b[39m=\u001b[39;49m[\u001b[39m1\u001b[39;49m],delimiter\u001b[39m=\u001b[39;49m\u001b[39m'\u001b[39;49m\u001b[39m,\u001b[39;49m\u001b[39m'\u001b[39;49m)\n\u001b[1;32m      <a href='vscode-notebook-cell:/src/rawPy/rawPy_reduction.ipynb#X53sZmlsZQ%3D%3D?line=2'>3</a>\u001b[0m data_xlook\n",
      "File \u001b[0;32m~/miniconda3/envs/rawpy_dev/lib/python3.11/site-packages/pandas/io/parsers/readers.py:948\u001b[0m, in \u001b[0;36mread_csv\u001b[0;34m(filepath_or_buffer, sep, delimiter, header, names, index_col, usecols, dtype, engine, converters, true_values, false_values, skipinitialspace, skiprows, skipfooter, nrows, na_values, keep_default_na, na_filter, verbose, skip_blank_lines, parse_dates, infer_datetime_format, keep_date_col, date_parser, date_format, dayfirst, cache_dates, iterator, chunksize, compression, thousands, decimal, lineterminator, quotechar, quoting, doublequote, escapechar, comment, encoding, encoding_errors, dialect, on_bad_lines, delim_whitespace, low_memory, memory_map, float_precision, storage_options, dtype_backend)\u001b[0m\n\u001b[1;32m    935\u001b[0m kwds_defaults \u001b[39m=\u001b[39m _refine_defaults_read(\n\u001b[1;32m    936\u001b[0m     dialect,\n\u001b[1;32m    937\u001b[0m     delimiter,\n\u001b[0;32m   (...)\u001b[0m\n\u001b[1;32m    944\u001b[0m     dtype_backend\u001b[39m=\u001b[39mdtype_backend,\n\u001b[1;32m    945\u001b[0m )\n\u001b[1;32m    946\u001b[0m kwds\u001b[39m.\u001b[39mupdate(kwds_defaults)\n\u001b[0;32m--> 948\u001b[0m \u001b[39mreturn\u001b[39;00m _read(filepath_or_buffer, kwds)\n",
      "File \u001b[0;32m~/miniconda3/envs/rawpy_dev/lib/python3.11/site-packages/pandas/io/parsers/readers.py:611\u001b[0m, in \u001b[0;36m_read\u001b[0;34m(filepath_or_buffer, kwds)\u001b[0m\n\u001b[1;32m    608\u001b[0m _validate_names(kwds\u001b[39m.\u001b[39mget(\u001b[39m\"\u001b[39m\u001b[39mnames\u001b[39m\u001b[39m\"\u001b[39m, \u001b[39mNone\u001b[39;00m))\n\u001b[1;32m    610\u001b[0m \u001b[39m# Create the parser.\u001b[39;00m\n\u001b[0;32m--> 611\u001b[0m parser \u001b[39m=\u001b[39m TextFileReader(filepath_or_buffer, \u001b[39m*\u001b[39;49m\u001b[39m*\u001b[39;49mkwds)\n\u001b[1;32m    613\u001b[0m \u001b[39mif\u001b[39;00m chunksize \u001b[39mor\u001b[39;00m iterator:\n\u001b[1;32m    614\u001b[0m     \u001b[39mreturn\u001b[39;00m parser\n",
      "File \u001b[0;32m~/miniconda3/envs/rawpy_dev/lib/python3.11/site-packages/pandas/io/parsers/readers.py:1448\u001b[0m, in \u001b[0;36mTextFileReader.__init__\u001b[0;34m(self, f, engine, **kwds)\u001b[0m\n\u001b[1;32m   1445\u001b[0m     \u001b[39mself\u001b[39m\u001b[39m.\u001b[39moptions[\u001b[39m\"\u001b[39m\u001b[39mhas_index_names\u001b[39m\u001b[39m\"\u001b[39m] \u001b[39m=\u001b[39m kwds[\u001b[39m\"\u001b[39m\u001b[39mhas_index_names\u001b[39m\u001b[39m\"\u001b[39m]\n\u001b[1;32m   1447\u001b[0m \u001b[39mself\u001b[39m\u001b[39m.\u001b[39mhandles: IOHandles \u001b[39m|\u001b[39m \u001b[39mNone\u001b[39;00m \u001b[39m=\u001b[39m \u001b[39mNone\u001b[39;00m\n\u001b[0;32m-> 1448\u001b[0m \u001b[39mself\u001b[39m\u001b[39m.\u001b[39m_engine \u001b[39m=\u001b[39m \u001b[39mself\u001b[39;49m\u001b[39m.\u001b[39;49m_make_engine(f, \u001b[39mself\u001b[39;49m\u001b[39m.\u001b[39;49mengine)\n",
      "File \u001b[0;32m~/miniconda3/envs/rawpy_dev/lib/python3.11/site-packages/pandas/io/parsers/readers.py:1705\u001b[0m, in \u001b[0;36mTextFileReader._make_engine\u001b[0;34m(self, f, engine)\u001b[0m\n\u001b[1;32m   1703\u001b[0m     \u001b[39mif\u001b[39;00m \u001b[39m\"\u001b[39m\u001b[39mb\u001b[39m\u001b[39m\"\u001b[39m \u001b[39mnot\u001b[39;00m \u001b[39min\u001b[39;00m mode:\n\u001b[1;32m   1704\u001b[0m         mode \u001b[39m+\u001b[39m\u001b[39m=\u001b[39m \u001b[39m\"\u001b[39m\u001b[39mb\u001b[39m\u001b[39m\"\u001b[39m\n\u001b[0;32m-> 1705\u001b[0m \u001b[39mself\u001b[39m\u001b[39m.\u001b[39mhandles \u001b[39m=\u001b[39m get_handle(\n\u001b[1;32m   1706\u001b[0m     f,\n\u001b[1;32m   1707\u001b[0m     mode,\n\u001b[1;32m   1708\u001b[0m     encoding\u001b[39m=\u001b[39;49m\u001b[39mself\u001b[39;49m\u001b[39m.\u001b[39;49moptions\u001b[39m.\u001b[39;49mget(\u001b[39m\"\u001b[39;49m\u001b[39mencoding\u001b[39;49m\u001b[39m\"\u001b[39;49m, \u001b[39mNone\u001b[39;49;00m),\n\u001b[1;32m   1709\u001b[0m     compression\u001b[39m=\u001b[39;49m\u001b[39mself\u001b[39;49m\u001b[39m.\u001b[39;49moptions\u001b[39m.\u001b[39;49mget(\u001b[39m\"\u001b[39;49m\u001b[39mcompression\u001b[39;49m\u001b[39m\"\u001b[39;49m, \u001b[39mNone\u001b[39;49;00m),\n\u001b[1;32m   1710\u001b[0m     memory_map\u001b[39m=\u001b[39;49m\u001b[39mself\u001b[39;49m\u001b[39m.\u001b[39;49moptions\u001b[39m.\u001b[39;49mget(\u001b[39m\"\u001b[39;49m\u001b[39mmemory_map\u001b[39;49m\u001b[39m\"\u001b[39;49m, \u001b[39mFalse\u001b[39;49;00m),\n\u001b[1;32m   1711\u001b[0m     is_text\u001b[39m=\u001b[39;49mis_text,\n\u001b[1;32m   1712\u001b[0m     errors\u001b[39m=\u001b[39;49m\u001b[39mself\u001b[39;49m\u001b[39m.\u001b[39;49moptions\u001b[39m.\u001b[39;49mget(\u001b[39m\"\u001b[39;49m\u001b[39mencoding_errors\u001b[39;49m\u001b[39m\"\u001b[39;49m, \u001b[39m\"\u001b[39;49m\u001b[39mstrict\u001b[39;49m\u001b[39m\"\u001b[39;49m),\n\u001b[1;32m   1713\u001b[0m     storage_options\u001b[39m=\u001b[39;49m\u001b[39mself\u001b[39;49m\u001b[39m.\u001b[39;49moptions\u001b[39m.\u001b[39;49mget(\u001b[39m\"\u001b[39;49m\u001b[39mstorage_options\u001b[39;49m\u001b[39m\"\u001b[39;49m, \u001b[39mNone\u001b[39;49;00m),\n\u001b[1;32m   1714\u001b[0m )\n\u001b[1;32m   1715\u001b[0m \u001b[39massert\u001b[39;00m \u001b[39mself\u001b[39m\u001b[39m.\u001b[39mhandles \u001b[39mis\u001b[39;00m \u001b[39mnot\u001b[39;00m \u001b[39mNone\u001b[39;00m\n\u001b[1;32m   1716\u001b[0m f \u001b[39m=\u001b[39m \u001b[39mself\u001b[39m\u001b[39m.\u001b[39mhandles\u001b[39m.\u001b[39mhandle\n",
      "File \u001b[0;32m~/miniconda3/envs/rawpy_dev/lib/python3.11/site-packages/pandas/io/common.py:863\u001b[0m, in \u001b[0;36mget_handle\u001b[0;34m(path_or_buf, mode, encoding, compression, memory_map, is_text, errors, storage_options)\u001b[0m\n\u001b[1;32m    858\u001b[0m \u001b[39melif\u001b[39;00m \u001b[39misinstance\u001b[39m(handle, \u001b[39mstr\u001b[39m):\n\u001b[1;32m    859\u001b[0m     \u001b[39m# Check whether the filename is to be opened in binary mode.\u001b[39;00m\n\u001b[1;32m    860\u001b[0m     \u001b[39m# Binary mode does not support 'encoding' and 'newline'.\u001b[39;00m\n\u001b[1;32m    861\u001b[0m     \u001b[39mif\u001b[39;00m ioargs\u001b[39m.\u001b[39mencoding \u001b[39mand\u001b[39;00m \u001b[39m\"\u001b[39m\u001b[39mb\u001b[39m\u001b[39m\"\u001b[39m \u001b[39mnot\u001b[39;00m \u001b[39min\u001b[39;00m ioargs\u001b[39m.\u001b[39mmode:\n\u001b[1;32m    862\u001b[0m         \u001b[39m# Encoding\u001b[39;00m\n\u001b[0;32m--> 863\u001b[0m         handle \u001b[39m=\u001b[39m \u001b[39mopen\u001b[39;49m(\n\u001b[1;32m    864\u001b[0m             handle,\n\u001b[1;32m    865\u001b[0m             ioargs\u001b[39m.\u001b[39;49mmode,\n\u001b[1;32m    866\u001b[0m             encoding\u001b[39m=\u001b[39;49mioargs\u001b[39m.\u001b[39;49mencoding,\n\u001b[1;32m    867\u001b[0m             errors\u001b[39m=\u001b[39;49merrors,\n\u001b[1;32m    868\u001b[0m             newline\u001b[39m=\u001b[39;49m\u001b[39m\"\u001b[39;49m\u001b[39m\"\u001b[39;49m,\n\u001b[1;32m    869\u001b[0m         )\n\u001b[1;32m    870\u001b[0m     \u001b[39melse\u001b[39;00m:\n\u001b[1;32m    871\u001b[0m         \u001b[39m# Binary mode\u001b[39;00m\n\u001b[1;32m    872\u001b[0m         handle \u001b[39m=\u001b[39m \u001b[39mopen\u001b[39m(handle, ioargs\u001b[39m.\u001b[39mmode)\n",
      "\u001b[0;31mFileNotFoundError\u001b[0m: [Errno 2] No such file or directory: '/src/rawPy/example/b754_xlook.txt'"
     ]
    }
   ],
   "source": [
    "xlook_file = os.path.join(cwd, 'example', 'b754_xlook.txt')\n",
    "data_xlook = pd.read_csv(xlook_file,skiprows=[1],delimiter=',')\n",
    "data_xlook"
   ]
  },
  {
   "cell_type": "code",
   "execution_count": null,
   "metadata": {},
   "outputs": [
    {
     "data": {
      "text/plain": [
       "<matplotlib.legend.Legend at 0x7ff170ece9d0>"
      ]
     },
     "execution_count": 24,
     "metadata": {},
     "output_type": "execute_result"
    },
    {
     "data": {
      "image/png": "[encoded data removed]",
      "text/plain": [
       "<Figure size 576x576 with 1 Axes>"
      ]
     },
     "metadata": {
      "needs_background": "light"
     },
     "output_type": "display_data"
    }
   ],
   "source": [
    "# compare ec_disp vs friction\n",
    "f, ax = plt.subplots(1,1,figsize=(8,8))\n",
    "ax.plot(data_xlook.ec_disp,data_xlook.mu,'k',label='xlook')\n",
    "ax.plot(data_rawPy.ec_disp_mm, data_rawPy.friction_na,'r',label='rawPy')\n",
    "ax.set_ylabel('Friction')\n",
    "ax.set_xlabel('ec_disp [mm]')\n",
    "ax.legend(loc='upper right')"
   ]
  },
  {
   "cell_type": "code",
   "execution_count": null,
   "metadata": {},
   "outputs": [
    {
     "data": {
      "text/plain": [
       "<matplotlib.legend.Legend at 0x7ff1540e05e0>"
      ]
     },
     "execution_count": 25,
     "metadata": {},
     "output_type": "execute_result"
    },
    {
     "data": {
      "image/png": "[encoded data removed]",
      "text/plain": [
       "<Figure size 576x576 with 1 Axes>"
      ]
     },
     "metadata": {
      "needs_background": "light"
     },
     "output_type": "display_data"
    }
   ],
   "source": [
    "# compare shear_strain vs friction\n",
    "\n",
    "f, ax = plt.subplots(1,1,figsize=(8,8))\n",
    "ax.plot(data_xlook.Shear_Strain,data_xlook.mu,'k',label='xlook')\n",
    "ax.plot(data_rawPy.shear_strain_na, data_rawPy.friction_na,'r',label='rawPy')\n",
    "ax.set_ylabel('Friction')\n",
    "ax.set_xlabel('shear strain')\n",
    "ax.legend(loc='upper right')"
   ]
  },
  {
   "cell_type": "code",
   "execution_count": null,
   "metadata": {},
   "outputs": [
    {
     "data": {
      "text/plain": [
       "<matplotlib.legend.Legend at 0x7ff1540c68e0>"
      ]
     },
     "execution_count": 26,
     "metadata": {},
     "output_type": "execute_result"
    },
    {
     "data": {
      "image/png": "[encoded data removed]",
      "text/plain": [
       "<Figure size 576x576 with 1 Axes>"
      ]
     },
     "metadata": {
      "needs_background": "light"
     },
     "output_type": "display_data"
    }
   ],
   "source": [
    "# compare time vs rgt (corrected layer thickness)\n",
    "\n",
    "f, ax = plt.subplots(1,1,figsize=(8,8))\n",
    "ax.plot(data_xlook.Time,data_xlook.rgt_LT,'k',label='xlook')\n",
    "ax.plot(data_rawPy.time_s, data_rawPy.rgt_lt_mm*1000,'r',label='rawPy')\n",
    "ax.set_ylabel('Friction')\n",
    "ax.set_xlabel('shear strain')\n",
    "ax.legend(loc='upper right')"
   ]
  },
  {
   "cell_type": "code",
   "execution_count": null,
   "metadata": {},
   "outputs": [],
   "source": []
  }
 ],
 "metadata": {
  "kernelspec": {
   "display_name": "Python 3",
   "language": "python",
   "name": "python3"
  },
  "language_info": {
   "codemirror_mode": {
    "name": "ipython",
    "version": 3
   },
   "file_extension": ".py",
   "mimetype": "text/x-python",
   "name": "python",
   "nbconvert_exporter": "python",
   "pygments_lexer": "ipython3",
   "version": "3.11.3"
  }
 },
 "nbformat": 4,
 "nbformat_minor": 4
}
